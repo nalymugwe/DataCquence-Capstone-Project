{
  "nbformat": 4,
  "nbformat_minor": 0,
  "metadata": {
    "kernelspec": {
      "display_name": "Python 3",
      "language": "python",
      "name": "python3"
    },
    "language_info": {
      "codemirror_mode": {
        "name": "ipython",
        "version": 3
      },
      "file_extension": ".py",
      "mimetype": "text/x-python",
      "name": "python",
      "nbconvert_exporter": "python",
      "pygments_lexer": "ipython3",
      "version": "3.8.3"
    },
    "colab": {
      "name": "Capstone Project Part A - Features of Trending YouTube Videos in USA, India, Japan, South Korea, Mexico & Brazil .ipynb",
      "provenance": [],
      "include_colab_link": true
    }
  },
  "cells": [
    {
      "cell_type": "markdown",
      "metadata": {
        "id": "view-in-github",
        "colab_type": "text"
      },
      "source": [
        "<a href=\"https://colab.research.google.com/github/nalymugwe/DataCquence-Capstone-Project/blob/main/Capstone_Project_Part_A_Features_of_Trending_YouTube_Videos_in_USA%2C_India%2C_Japan%2C_South_Korea%2C_Mexico_%26_Brazil_.ipynb\" target=\"_parent\"><img src=\"https://colab.research.google.com/assets/colab-badge.svg\" alt=\"Open In Colab\"/></a>"
      ]
    },
    {
      "cell_type": "code",
      "metadata": {
        "colab": {
          "base_uri": "https://localhost:8080/"
        },
        "id": "yQM085B7mrr8",
        "outputId": "07abab3f-ee48-4d6b-c065-360308cc9dde"
      },
      "source": [
        "#check working directory\n",
        "!pwd"
      ],
      "execution_count": 8,
      "outputs": [
        {
          "output_type": "stream",
          "text": [
            "/content/gdrive/My Drive/Data Science/Data\n"
          ],
          "name": "stdout"
        }
      ]
    },
    {
      "cell_type": "code",
      "metadata": {
        "colab": {
          "base_uri": "https://localhost:8080/"
        },
        "id": "ee3JTu4rm3gR",
        "outputId": "ee5e1190-b41e-4d28-f931-765ee4cc9153"
      },
      "source": [
        "#Mount Colab onto Google Drive for easier extraction of files\n",
        "from google.colab import drive\n",
        "drive.mount('/content/gdrive')"
      ],
      "execution_count": 9,
      "outputs": [
        {
          "output_type": "stream",
          "text": [
            "Drive already mounted at /content/gdrive; to attempt to forcibly remount, call drive.mount(\"/content/gdrive\", force_remount=True).\n"
          ],
          "name": "stdout"
        }
      ]
    },
    {
      "cell_type": "code",
      "metadata": {
        "id": "bgmMI0w4tHVc",
        "colab": {
          "base_uri": "https://localhost:8080/"
        },
        "outputId": "889b3ffd-3334-4378-9cbb-332dfb5b14b4"
      },
      "source": [
        "#Import the operating system and confirm the list of files.\n",
        "import os\n",
        "os.chdir('/content/gdrive/MyDrive/Data Science/Data')\n",
        "!ls"
      ],
      "execution_count": 10,
      "outputs": [
        {
          "output_type": "stream",
          "text": [
            " 01_heights_weights_genders.csv\n",
            " BR_youtube_trending_data.csv\n",
            " CA_youtube_trending_data.csv\n",
            " DE_youtube_trending_data.csv\n",
            " FR_youtube_trending_data.csv\n",
            " GB_youtube_trending_data.csv\n",
            " IN_youtube_trending_data.csv\n",
            " JP_youtube_trending_data.csv\n",
            " KR_youtube_trending_data.csv\n",
            " ks-projects-201801.csv\n",
            "'Measurement and analysis of Youtube Trending Videos.gdoc'\n",
            " MX_youtube_trending_data.csv\n",
            "'Project ideas to tackle.gdoc'\n",
            " RU_youtube_trending_data.csv\n",
            " services_annual_dataset.zip\n",
            " US_youtube_trending_data.csv\n",
            " WineKMC.csv\n",
            " YouTubedata_20210106_220013B.csv\n",
            " Youtubedata_20210109_213012A.csv\n",
            "'YoutubeData.csv - Trending Videos.zip'\n",
            "'YouTube Project Files.zip'\n"
          ],
          "name": "stdout"
        }
      ]
    },
    {
      "cell_type": "code",
      "metadata": {
        "id": "s2s_GIYQmS3e"
      },
      "source": [
        "#import all libraries needed\n",
        "\n",
        "import os\n",
        "import csv\n",
        "import numpy as np\n",
        "import pandas as pd\n",
        "import matplotlib.pyplot as plt\n",
        "import datetime\n",
        "import glob\n",
        "import seaborn as sns\n"
      ],
      "execution_count": 11,
      "outputs": []
    },
    {
      "cell_type": "code",
      "metadata": {
        "id": "OLY2BqZVyBgu"
      },
      "source": [
        "#Import all datasets\n",
        "USA_data = pd.read_csv('/content/gdrive/MyDrive/Data Science/Data/US_youtube_trending_data.csv')\n",
        "India_data = pd.read_csv('/content/gdrive/MyDrive/Data Science/Data/IN_youtube_trending_data.csv')\n",
        "Japan_data = pd.read_csv('/content/gdrive/MyDrive/Data Science/Data/JP_youtube_trending_data.csv')\n",
        "SouthKorea_data = pd.read_csv('/content/gdrive/MyDrive/Data Science/Data/KR_youtube_trending_data.csv')\n",
        "Mexico_data = pd.read_csv('/content/gdrive/MyDrive/Data Science/Data/MX_youtube_trending_data.csv')\n",
        "Brazil_data = pd.read_csv('/content/gdrive/MyDrive/Data Science/Data/BR_youtube_trending_data.csv')"
      ],
      "execution_count": 12,
      "outputs": []
    },
    {
      "cell_type": "code",
      "metadata": {
        "id": "x7ly-vPGmS3r",
        "colab": {
          "base_uri": "https://localhost:8080/",
          "height": 479
        },
        "outputId": "f49f6e28-8ab7-460d-d398-93a9f77df28e"
      },
      "source": [
        "#Merge all data into one dataframe\n",
        "Frames = [USA_data, India_data, SouthKorea_data, Mexico_data, Japan_data, Brazil_data]\n",
        "All_data = pd.concat(Frames, keys=[\"USA\", \"India\", \"SouthKorea\", \"Mexico\", \"Japan\", \"Brazil\"], axis=0).reset_index().rename(columns={'level_0':'country'})\n",
        "All_data.head()"
      ],
      "execution_count": 13,
      "outputs": [
        {
          "output_type": "execute_result",
          "data": {
            "text/html": [
              "<div>\n",
              "<style scoped>\n",
              "    .dataframe tbody tr th:only-of-type {\n",
              "        vertical-align: middle;\n",
              "    }\n",
              "\n",
              "    .dataframe tbody tr th {\n",
              "        vertical-align: top;\n",
              "    }\n",
              "\n",
              "    .dataframe thead th {\n",
              "        text-align: right;\n",
              "    }\n",
              "</style>\n",
              "<table border=\"1\" class=\"dataframe\">\n",
              "  <thead>\n",
              "    <tr style=\"text-align: right;\">\n",
              "      <th></th>\n",
              "      <th>country</th>\n",
              "      <th>level_1</th>\n",
              "      <th>video_id</th>\n",
              "      <th>title</th>\n",
              "      <th>publishedAt</th>\n",
              "      <th>channelId</th>\n",
              "      <th>channelTitle</th>\n",
              "      <th>categoryId</th>\n",
              "      <th>trending_date</th>\n",
              "      <th>tags</th>\n",
              "      <th>view_count</th>\n",
              "      <th>likes</th>\n",
              "      <th>dislikes</th>\n",
              "      <th>comment_count</th>\n",
              "      <th>thumbnail_link</th>\n",
              "      <th>comments_disabled</th>\n",
              "      <th>ratings_disabled</th>\n",
              "      <th>description</th>\n",
              "    </tr>\n",
              "  </thead>\n",
              "  <tbody>\n",
              "    <tr>\n",
              "      <th>0</th>\n",
              "      <td>USA</td>\n",
              "      <td>0</td>\n",
              "      <td>3C66w5Z0ixs</td>\n",
              "      <td>I ASKED HER TO BE MY GIRLFRIEND...</td>\n",
              "      <td>2020-08-11T19:20:14Z</td>\n",
              "      <td>UCvtRTOMP2TqYqu51xNrqAzg</td>\n",
              "      <td>Brawadis</td>\n",
              "      <td>22</td>\n",
              "      <td>2020-08-12T00:00:00Z</td>\n",
              "      <td>brawadis|prank|basketball|skits|ghost|funny vi...</td>\n",
              "      <td>1514614</td>\n",
              "      <td>156908</td>\n",
              "      <td>5855</td>\n",
              "      <td>35313</td>\n",
              "      <td>https://i.ytimg.com/vi/3C66w5Z0ixs/default.jpg</td>\n",
              "      <td>False</td>\n",
              "      <td>False</td>\n",
              "      <td>SUBSCRIBE to BRAWADIS ▶ http://bit.ly/Subscrib...</td>\n",
              "    </tr>\n",
              "    <tr>\n",
              "      <th>1</th>\n",
              "      <td>USA</td>\n",
              "      <td>1</td>\n",
              "      <td>M9Pmf9AB4Mo</td>\n",
              "      <td>Apex Legends | Stories from the Outlands – “Th...</td>\n",
              "      <td>2020-08-11T17:00:10Z</td>\n",
              "      <td>UC0ZV6M2THA81QT9hrVWJG3A</td>\n",
              "      <td>Apex Legends</td>\n",
              "      <td>20</td>\n",
              "      <td>2020-08-12T00:00:00Z</td>\n",
              "      <td>Apex Legends|Apex Legends characters|new Apex ...</td>\n",
              "      <td>2381688</td>\n",
              "      <td>146739</td>\n",
              "      <td>2794</td>\n",
              "      <td>16549</td>\n",
              "      <td>https://i.ytimg.com/vi/M9Pmf9AB4Mo/default.jpg</td>\n",
              "      <td>False</td>\n",
              "      <td>False</td>\n",
              "      <td>While running her own modding shop, Ramya Pare...</td>\n",
              "    </tr>\n",
              "    <tr>\n",
              "      <th>2</th>\n",
              "      <td>USA</td>\n",
              "      <td>2</td>\n",
              "      <td>J78aPJ3VyNs</td>\n",
              "      <td>I left youtube for a month and THIS is what ha...</td>\n",
              "      <td>2020-08-11T16:34:06Z</td>\n",
              "      <td>UCYzPXprvl5Y-Sf0g4vX-m6g</td>\n",
              "      <td>jacksepticeye</td>\n",
              "      <td>24</td>\n",
              "      <td>2020-08-12T00:00:00Z</td>\n",
              "      <td>jacksepticeye|funny|funny meme|memes|jacksepti...</td>\n",
              "      <td>2038853</td>\n",
              "      <td>353787</td>\n",
              "      <td>2628</td>\n",
              "      <td>40221</td>\n",
              "      <td>https://i.ytimg.com/vi/J78aPJ3VyNs/default.jpg</td>\n",
              "      <td>False</td>\n",
              "      <td>False</td>\n",
              "      <td>I left youtube for a month and this is what ha...</td>\n",
              "    </tr>\n",
              "    <tr>\n",
              "      <th>3</th>\n",
              "      <td>USA</td>\n",
              "      <td>3</td>\n",
              "      <td>kXLn3HkpjaA</td>\n",
              "      <td>XXL 2020 Freshman Class Revealed - Official An...</td>\n",
              "      <td>2020-08-11T16:38:55Z</td>\n",
              "      <td>UCbg_UMjlHJg_19SZckaKajg</td>\n",
              "      <td>XXL</td>\n",
              "      <td>10</td>\n",
              "      <td>2020-08-12T00:00:00Z</td>\n",
              "      <td>xxl freshman|xxl freshmen|2020 xxl freshman|20...</td>\n",
              "      <td>496771</td>\n",
              "      <td>23251</td>\n",
              "      <td>1856</td>\n",
              "      <td>7647</td>\n",
              "      <td>https://i.ytimg.com/vi/kXLn3HkpjaA/default.jpg</td>\n",
              "      <td>False</td>\n",
              "      <td>False</td>\n",
              "      <td>Subscribe to XXL → http://bit.ly/subscribe-xxl...</td>\n",
              "    </tr>\n",
              "    <tr>\n",
              "      <th>4</th>\n",
              "      <td>USA</td>\n",
              "      <td>4</td>\n",
              "      <td>VIUo6yapDbc</td>\n",
              "      <td>Ultimate DIY Home Movie Theater for The LaBran...</td>\n",
              "      <td>2020-08-11T15:10:05Z</td>\n",
              "      <td>UCDVPcEbVLQgLZX0Rt6jo34A</td>\n",
              "      <td>Mr. Kate</td>\n",
              "      <td>26</td>\n",
              "      <td>2020-08-12T00:00:00Z</td>\n",
              "      <td>The LaBrant Family|DIY|Interior Design|Makeove...</td>\n",
              "      <td>1123889</td>\n",
              "      <td>45802</td>\n",
              "      <td>964</td>\n",
              "      <td>2196</td>\n",
              "      <td>https://i.ytimg.com/vi/VIUo6yapDbc/default.jpg</td>\n",
              "      <td>False</td>\n",
              "      <td>False</td>\n",
              "      <td>Transforming The LaBrant Family's empty white ...</td>\n",
              "    </tr>\n",
              "  </tbody>\n",
              "</table>\n",
              "</div>"
            ],
            "text/plain": [
              "  country  ...                                        description\n",
              "0     USA  ...  SUBSCRIBE to BRAWADIS ▶ http://bit.ly/Subscrib...\n",
              "1     USA  ...  While running her own modding shop, Ramya Pare...\n",
              "2     USA  ...  I left youtube for a month and this is what ha...\n",
              "3     USA  ...  Subscribe to XXL → http://bit.ly/subscribe-xxl...\n",
              "4     USA  ...  Transforming The LaBrant Family's empty white ...\n",
              "\n",
              "[5 rows x 18 columns]"
            ]
          },
          "metadata": {
            "tags": []
          },
          "execution_count": 13
        }
      ]
    },
    {
      "cell_type": "code",
      "metadata": {
        "id": "OVqAo_5_mS3t",
        "colab": {
          "base_uri": "https://localhost:8080/",
          "height": 479
        },
        "outputId": "1d96a919-c78b-45c7-f210-b4d01ecbf58a"
      },
      "source": [
        "#Drop columns not needed\n",
        "\n",
        "Data = All_data.drop(columns =['level_1', 'comments_disabled', 'ratings_disabled', 'thumbnail_link'], axis = 1) \n",
        "Data.head()"
      ],
      "execution_count": 14,
      "outputs": [
        {
          "output_type": "execute_result",
          "data": {
            "text/html": [
              "<div>\n",
              "<style scoped>\n",
              "    .dataframe tbody tr th:only-of-type {\n",
              "        vertical-align: middle;\n",
              "    }\n",
              "\n",
              "    .dataframe tbody tr th {\n",
              "        vertical-align: top;\n",
              "    }\n",
              "\n",
              "    .dataframe thead th {\n",
              "        text-align: right;\n",
              "    }\n",
              "</style>\n",
              "<table border=\"1\" class=\"dataframe\">\n",
              "  <thead>\n",
              "    <tr style=\"text-align: right;\">\n",
              "      <th></th>\n",
              "      <th>country</th>\n",
              "      <th>video_id</th>\n",
              "      <th>title</th>\n",
              "      <th>publishedAt</th>\n",
              "      <th>channelId</th>\n",
              "      <th>channelTitle</th>\n",
              "      <th>categoryId</th>\n",
              "      <th>trending_date</th>\n",
              "      <th>tags</th>\n",
              "      <th>view_count</th>\n",
              "      <th>likes</th>\n",
              "      <th>dislikes</th>\n",
              "      <th>comment_count</th>\n",
              "      <th>description</th>\n",
              "    </tr>\n",
              "  </thead>\n",
              "  <tbody>\n",
              "    <tr>\n",
              "      <th>0</th>\n",
              "      <td>USA</td>\n",
              "      <td>3C66w5Z0ixs</td>\n",
              "      <td>I ASKED HER TO BE MY GIRLFRIEND...</td>\n",
              "      <td>2020-08-11T19:20:14Z</td>\n",
              "      <td>UCvtRTOMP2TqYqu51xNrqAzg</td>\n",
              "      <td>Brawadis</td>\n",
              "      <td>22</td>\n",
              "      <td>2020-08-12T00:00:00Z</td>\n",
              "      <td>brawadis|prank|basketball|skits|ghost|funny vi...</td>\n",
              "      <td>1514614</td>\n",
              "      <td>156908</td>\n",
              "      <td>5855</td>\n",
              "      <td>35313</td>\n",
              "      <td>SUBSCRIBE to BRAWADIS ▶ http://bit.ly/Subscrib...</td>\n",
              "    </tr>\n",
              "    <tr>\n",
              "      <th>1</th>\n",
              "      <td>USA</td>\n",
              "      <td>M9Pmf9AB4Mo</td>\n",
              "      <td>Apex Legends | Stories from the Outlands – “Th...</td>\n",
              "      <td>2020-08-11T17:00:10Z</td>\n",
              "      <td>UC0ZV6M2THA81QT9hrVWJG3A</td>\n",
              "      <td>Apex Legends</td>\n",
              "      <td>20</td>\n",
              "      <td>2020-08-12T00:00:00Z</td>\n",
              "      <td>Apex Legends|Apex Legends characters|new Apex ...</td>\n",
              "      <td>2381688</td>\n",
              "      <td>146739</td>\n",
              "      <td>2794</td>\n",
              "      <td>16549</td>\n",
              "      <td>While running her own modding shop, Ramya Pare...</td>\n",
              "    </tr>\n",
              "    <tr>\n",
              "      <th>2</th>\n",
              "      <td>USA</td>\n",
              "      <td>J78aPJ3VyNs</td>\n",
              "      <td>I left youtube for a month and THIS is what ha...</td>\n",
              "      <td>2020-08-11T16:34:06Z</td>\n",
              "      <td>UCYzPXprvl5Y-Sf0g4vX-m6g</td>\n",
              "      <td>jacksepticeye</td>\n",
              "      <td>24</td>\n",
              "      <td>2020-08-12T00:00:00Z</td>\n",
              "      <td>jacksepticeye|funny|funny meme|memes|jacksepti...</td>\n",
              "      <td>2038853</td>\n",
              "      <td>353787</td>\n",
              "      <td>2628</td>\n",
              "      <td>40221</td>\n",
              "      <td>I left youtube for a month and this is what ha...</td>\n",
              "    </tr>\n",
              "    <tr>\n",
              "      <th>3</th>\n",
              "      <td>USA</td>\n",
              "      <td>kXLn3HkpjaA</td>\n",
              "      <td>XXL 2020 Freshman Class Revealed - Official An...</td>\n",
              "      <td>2020-08-11T16:38:55Z</td>\n",
              "      <td>UCbg_UMjlHJg_19SZckaKajg</td>\n",
              "      <td>XXL</td>\n",
              "      <td>10</td>\n",
              "      <td>2020-08-12T00:00:00Z</td>\n",
              "      <td>xxl freshman|xxl freshmen|2020 xxl freshman|20...</td>\n",
              "      <td>496771</td>\n",
              "      <td>23251</td>\n",
              "      <td>1856</td>\n",
              "      <td>7647</td>\n",
              "      <td>Subscribe to XXL → http://bit.ly/subscribe-xxl...</td>\n",
              "    </tr>\n",
              "    <tr>\n",
              "      <th>4</th>\n",
              "      <td>USA</td>\n",
              "      <td>VIUo6yapDbc</td>\n",
              "      <td>Ultimate DIY Home Movie Theater for The LaBran...</td>\n",
              "      <td>2020-08-11T15:10:05Z</td>\n",
              "      <td>UCDVPcEbVLQgLZX0Rt6jo34A</td>\n",
              "      <td>Mr. Kate</td>\n",
              "      <td>26</td>\n",
              "      <td>2020-08-12T00:00:00Z</td>\n",
              "      <td>The LaBrant Family|DIY|Interior Design|Makeove...</td>\n",
              "      <td>1123889</td>\n",
              "      <td>45802</td>\n",
              "      <td>964</td>\n",
              "      <td>2196</td>\n",
              "      <td>Transforming The LaBrant Family's empty white ...</td>\n",
              "    </tr>\n",
              "  </tbody>\n",
              "</table>\n",
              "</div>"
            ],
            "text/plain": [
              "  country  ...                                        description\n",
              "0     USA  ...  SUBSCRIBE to BRAWADIS ▶ http://bit.ly/Subscrib...\n",
              "1     USA  ...  While running her own modding shop, Ramya Pare...\n",
              "2     USA  ...  I left youtube for a month and this is what ha...\n",
              "3     USA  ...  Subscribe to XXL → http://bit.ly/subscribe-xxl...\n",
              "4     USA  ...  Transforming The LaBrant Family's empty white ...\n",
              "\n",
              "[5 rows x 14 columns]"
            ]
          },
          "metadata": {
            "tags": []
          },
          "execution_count": 14
        }
      ]
    },
    {
      "cell_type": "code",
      "metadata": {
        "id": "eBvIFl54mS3v",
        "colab": {
          "base_uri": "https://localhost:8080/",
          "height": 479
        },
        "outputId": "cf6c88ae-836f-4be3-c5e8-511c158fe98f"
      },
      "source": [
        "#Separate the date from the time from publishedAt column\n",
        "\n",
        "df = Data\n",
        "\n",
        "df['publish_date'] = pd.to_datetime(df['publishedAt']).dt.date\n",
        "df['publish_time'] = pd.to_datetime(df['publishedAt']).dt.time\n",
        "df.head()"
      ],
      "execution_count": 15,
      "outputs": [
        {
          "output_type": "execute_result",
          "data": {
            "text/html": [
              "<div>\n",
              "<style scoped>\n",
              "    .dataframe tbody tr th:only-of-type {\n",
              "        vertical-align: middle;\n",
              "    }\n",
              "\n",
              "    .dataframe tbody tr th {\n",
              "        vertical-align: top;\n",
              "    }\n",
              "\n",
              "    .dataframe thead th {\n",
              "        text-align: right;\n",
              "    }\n",
              "</style>\n",
              "<table border=\"1\" class=\"dataframe\">\n",
              "  <thead>\n",
              "    <tr style=\"text-align: right;\">\n",
              "      <th></th>\n",
              "      <th>country</th>\n",
              "      <th>video_id</th>\n",
              "      <th>title</th>\n",
              "      <th>publishedAt</th>\n",
              "      <th>channelId</th>\n",
              "      <th>channelTitle</th>\n",
              "      <th>categoryId</th>\n",
              "      <th>trending_date</th>\n",
              "      <th>tags</th>\n",
              "      <th>view_count</th>\n",
              "      <th>likes</th>\n",
              "      <th>dislikes</th>\n",
              "      <th>comment_count</th>\n",
              "      <th>description</th>\n",
              "      <th>publish_date</th>\n",
              "      <th>publish_time</th>\n",
              "    </tr>\n",
              "  </thead>\n",
              "  <tbody>\n",
              "    <tr>\n",
              "      <th>0</th>\n",
              "      <td>USA</td>\n",
              "      <td>3C66w5Z0ixs</td>\n",
              "      <td>I ASKED HER TO BE MY GIRLFRIEND...</td>\n",
              "      <td>2020-08-11T19:20:14Z</td>\n",
              "      <td>UCvtRTOMP2TqYqu51xNrqAzg</td>\n",
              "      <td>Brawadis</td>\n",
              "      <td>22</td>\n",
              "      <td>2020-08-12T00:00:00Z</td>\n",
              "      <td>brawadis|prank|basketball|skits|ghost|funny vi...</td>\n",
              "      <td>1514614</td>\n",
              "      <td>156908</td>\n",
              "      <td>5855</td>\n",
              "      <td>35313</td>\n",
              "      <td>SUBSCRIBE to BRAWADIS ▶ http://bit.ly/Subscrib...</td>\n",
              "      <td>2020-08-11</td>\n",
              "      <td>19:20:14</td>\n",
              "    </tr>\n",
              "    <tr>\n",
              "      <th>1</th>\n",
              "      <td>USA</td>\n",
              "      <td>M9Pmf9AB4Mo</td>\n",
              "      <td>Apex Legends | Stories from the Outlands – “Th...</td>\n",
              "      <td>2020-08-11T17:00:10Z</td>\n",
              "      <td>UC0ZV6M2THA81QT9hrVWJG3A</td>\n",
              "      <td>Apex Legends</td>\n",
              "      <td>20</td>\n",
              "      <td>2020-08-12T00:00:00Z</td>\n",
              "      <td>Apex Legends|Apex Legends characters|new Apex ...</td>\n",
              "      <td>2381688</td>\n",
              "      <td>146739</td>\n",
              "      <td>2794</td>\n",
              "      <td>16549</td>\n",
              "      <td>While running her own modding shop, Ramya Pare...</td>\n",
              "      <td>2020-08-11</td>\n",
              "      <td>17:00:10</td>\n",
              "    </tr>\n",
              "    <tr>\n",
              "      <th>2</th>\n",
              "      <td>USA</td>\n",
              "      <td>J78aPJ3VyNs</td>\n",
              "      <td>I left youtube for a month and THIS is what ha...</td>\n",
              "      <td>2020-08-11T16:34:06Z</td>\n",
              "      <td>UCYzPXprvl5Y-Sf0g4vX-m6g</td>\n",
              "      <td>jacksepticeye</td>\n",
              "      <td>24</td>\n",
              "      <td>2020-08-12T00:00:00Z</td>\n",
              "      <td>jacksepticeye|funny|funny meme|memes|jacksepti...</td>\n",
              "      <td>2038853</td>\n",
              "      <td>353787</td>\n",
              "      <td>2628</td>\n",
              "      <td>40221</td>\n",
              "      <td>I left youtube for a month and this is what ha...</td>\n",
              "      <td>2020-08-11</td>\n",
              "      <td>16:34:06</td>\n",
              "    </tr>\n",
              "    <tr>\n",
              "      <th>3</th>\n",
              "      <td>USA</td>\n",
              "      <td>kXLn3HkpjaA</td>\n",
              "      <td>XXL 2020 Freshman Class Revealed - Official An...</td>\n",
              "      <td>2020-08-11T16:38:55Z</td>\n",
              "      <td>UCbg_UMjlHJg_19SZckaKajg</td>\n",
              "      <td>XXL</td>\n",
              "      <td>10</td>\n",
              "      <td>2020-08-12T00:00:00Z</td>\n",
              "      <td>xxl freshman|xxl freshmen|2020 xxl freshman|20...</td>\n",
              "      <td>496771</td>\n",
              "      <td>23251</td>\n",
              "      <td>1856</td>\n",
              "      <td>7647</td>\n",
              "      <td>Subscribe to XXL → http://bit.ly/subscribe-xxl...</td>\n",
              "      <td>2020-08-11</td>\n",
              "      <td>16:38:55</td>\n",
              "    </tr>\n",
              "    <tr>\n",
              "      <th>4</th>\n",
              "      <td>USA</td>\n",
              "      <td>VIUo6yapDbc</td>\n",
              "      <td>Ultimate DIY Home Movie Theater for The LaBran...</td>\n",
              "      <td>2020-08-11T15:10:05Z</td>\n",
              "      <td>UCDVPcEbVLQgLZX0Rt6jo34A</td>\n",
              "      <td>Mr. Kate</td>\n",
              "      <td>26</td>\n",
              "      <td>2020-08-12T00:00:00Z</td>\n",
              "      <td>The LaBrant Family|DIY|Interior Design|Makeove...</td>\n",
              "      <td>1123889</td>\n",
              "      <td>45802</td>\n",
              "      <td>964</td>\n",
              "      <td>2196</td>\n",
              "      <td>Transforming The LaBrant Family's empty white ...</td>\n",
              "      <td>2020-08-11</td>\n",
              "      <td>15:10:05</td>\n",
              "    </tr>\n",
              "  </tbody>\n",
              "</table>\n",
              "</div>"
            ],
            "text/plain": [
              "  country     video_id  ... publish_date publish_time\n",
              "0     USA  3C66w5Z0ixs  ...   2020-08-11     19:20:14\n",
              "1     USA  M9Pmf9AB4Mo  ...   2020-08-11     17:00:10\n",
              "2     USA  J78aPJ3VyNs  ...   2020-08-11     16:34:06\n",
              "3     USA  kXLn3HkpjaA  ...   2020-08-11     16:38:55\n",
              "4     USA  VIUo6yapDbc  ...   2020-08-11     15:10:05\n",
              "\n",
              "[5 rows x 16 columns]"
            ]
          },
          "metadata": {
            "tags": []
          },
          "execution_count": 15
        }
      ]
    },
    {
      "cell_type": "code",
      "metadata": {
        "id": "Y-T-gRLtmS3x",
        "colab": {
          "base_uri": "https://localhost:8080/",
          "height": 479
        },
        "outputId": "36e26cba-ca05-4626-96b9-1f36ab78db13"
      },
      "source": [
        "#Separate the date from the time from trending_date column\n",
        "\n",
        "df2 = df\n",
        "\n",
        "df2['trend_date'] = pd.to_datetime(df2['trending_date']).dt.date\n",
        "df2['trend_time'] = pd.to_datetime(df2['trending_date']).dt.time\n",
        "df2.head()"
      ],
      "execution_count": 16,
      "outputs": [
        {
          "output_type": "execute_result",
          "data": {
            "text/html": [
              "<div>\n",
              "<style scoped>\n",
              "    .dataframe tbody tr th:only-of-type {\n",
              "        vertical-align: middle;\n",
              "    }\n",
              "\n",
              "    .dataframe tbody tr th {\n",
              "        vertical-align: top;\n",
              "    }\n",
              "\n",
              "    .dataframe thead th {\n",
              "        text-align: right;\n",
              "    }\n",
              "</style>\n",
              "<table border=\"1\" class=\"dataframe\">\n",
              "  <thead>\n",
              "    <tr style=\"text-align: right;\">\n",
              "      <th></th>\n",
              "      <th>country</th>\n",
              "      <th>video_id</th>\n",
              "      <th>title</th>\n",
              "      <th>publishedAt</th>\n",
              "      <th>channelId</th>\n",
              "      <th>channelTitle</th>\n",
              "      <th>categoryId</th>\n",
              "      <th>trending_date</th>\n",
              "      <th>tags</th>\n",
              "      <th>view_count</th>\n",
              "      <th>likes</th>\n",
              "      <th>dislikes</th>\n",
              "      <th>comment_count</th>\n",
              "      <th>description</th>\n",
              "      <th>publish_date</th>\n",
              "      <th>publish_time</th>\n",
              "      <th>trend_date</th>\n",
              "      <th>trend_time</th>\n",
              "    </tr>\n",
              "  </thead>\n",
              "  <tbody>\n",
              "    <tr>\n",
              "      <th>0</th>\n",
              "      <td>USA</td>\n",
              "      <td>3C66w5Z0ixs</td>\n",
              "      <td>I ASKED HER TO BE MY GIRLFRIEND...</td>\n",
              "      <td>2020-08-11T19:20:14Z</td>\n",
              "      <td>UCvtRTOMP2TqYqu51xNrqAzg</td>\n",
              "      <td>Brawadis</td>\n",
              "      <td>22</td>\n",
              "      <td>2020-08-12T00:00:00Z</td>\n",
              "      <td>brawadis|prank|basketball|skits|ghost|funny vi...</td>\n",
              "      <td>1514614</td>\n",
              "      <td>156908</td>\n",
              "      <td>5855</td>\n",
              "      <td>35313</td>\n",
              "      <td>SUBSCRIBE to BRAWADIS ▶ http://bit.ly/Subscrib...</td>\n",
              "      <td>2020-08-11</td>\n",
              "      <td>19:20:14</td>\n",
              "      <td>2020-08-12</td>\n",
              "      <td>00:00:00</td>\n",
              "    </tr>\n",
              "    <tr>\n",
              "      <th>1</th>\n",
              "      <td>USA</td>\n",
              "      <td>M9Pmf9AB4Mo</td>\n",
              "      <td>Apex Legends | Stories from the Outlands – “Th...</td>\n",
              "      <td>2020-08-11T17:00:10Z</td>\n",
              "      <td>UC0ZV6M2THA81QT9hrVWJG3A</td>\n",
              "      <td>Apex Legends</td>\n",
              "      <td>20</td>\n",
              "      <td>2020-08-12T00:00:00Z</td>\n",
              "      <td>Apex Legends|Apex Legends characters|new Apex ...</td>\n",
              "      <td>2381688</td>\n",
              "      <td>146739</td>\n",
              "      <td>2794</td>\n",
              "      <td>16549</td>\n",
              "      <td>While running her own modding shop, Ramya Pare...</td>\n",
              "      <td>2020-08-11</td>\n",
              "      <td>17:00:10</td>\n",
              "      <td>2020-08-12</td>\n",
              "      <td>00:00:00</td>\n",
              "    </tr>\n",
              "    <tr>\n",
              "      <th>2</th>\n",
              "      <td>USA</td>\n",
              "      <td>J78aPJ3VyNs</td>\n",
              "      <td>I left youtube for a month and THIS is what ha...</td>\n",
              "      <td>2020-08-11T16:34:06Z</td>\n",
              "      <td>UCYzPXprvl5Y-Sf0g4vX-m6g</td>\n",
              "      <td>jacksepticeye</td>\n",
              "      <td>24</td>\n",
              "      <td>2020-08-12T00:00:00Z</td>\n",
              "      <td>jacksepticeye|funny|funny meme|memes|jacksepti...</td>\n",
              "      <td>2038853</td>\n",
              "      <td>353787</td>\n",
              "      <td>2628</td>\n",
              "      <td>40221</td>\n",
              "      <td>I left youtube for a month and this is what ha...</td>\n",
              "      <td>2020-08-11</td>\n",
              "      <td>16:34:06</td>\n",
              "      <td>2020-08-12</td>\n",
              "      <td>00:00:00</td>\n",
              "    </tr>\n",
              "    <tr>\n",
              "      <th>3</th>\n",
              "      <td>USA</td>\n",
              "      <td>kXLn3HkpjaA</td>\n",
              "      <td>XXL 2020 Freshman Class Revealed - Official An...</td>\n",
              "      <td>2020-08-11T16:38:55Z</td>\n",
              "      <td>UCbg_UMjlHJg_19SZckaKajg</td>\n",
              "      <td>XXL</td>\n",
              "      <td>10</td>\n",
              "      <td>2020-08-12T00:00:00Z</td>\n",
              "      <td>xxl freshman|xxl freshmen|2020 xxl freshman|20...</td>\n",
              "      <td>496771</td>\n",
              "      <td>23251</td>\n",
              "      <td>1856</td>\n",
              "      <td>7647</td>\n",
              "      <td>Subscribe to XXL → http://bit.ly/subscribe-xxl...</td>\n",
              "      <td>2020-08-11</td>\n",
              "      <td>16:38:55</td>\n",
              "      <td>2020-08-12</td>\n",
              "      <td>00:00:00</td>\n",
              "    </tr>\n",
              "    <tr>\n",
              "      <th>4</th>\n",
              "      <td>USA</td>\n",
              "      <td>VIUo6yapDbc</td>\n",
              "      <td>Ultimate DIY Home Movie Theater for The LaBran...</td>\n",
              "      <td>2020-08-11T15:10:05Z</td>\n",
              "      <td>UCDVPcEbVLQgLZX0Rt6jo34A</td>\n",
              "      <td>Mr. Kate</td>\n",
              "      <td>26</td>\n",
              "      <td>2020-08-12T00:00:00Z</td>\n",
              "      <td>The LaBrant Family|DIY|Interior Design|Makeove...</td>\n",
              "      <td>1123889</td>\n",
              "      <td>45802</td>\n",
              "      <td>964</td>\n",
              "      <td>2196</td>\n",
              "      <td>Transforming The LaBrant Family's empty white ...</td>\n",
              "      <td>2020-08-11</td>\n",
              "      <td>15:10:05</td>\n",
              "      <td>2020-08-12</td>\n",
              "      <td>00:00:00</td>\n",
              "    </tr>\n",
              "  </tbody>\n",
              "</table>\n",
              "</div>"
            ],
            "text/plain": [
              "  country     video_id  ...  trend_date trend_time\n",
              "0     USA  3C66w5Z0ixs  ...  2020-08-12   00:00:00\n",
              "1     USA  M9Pmf9AB4Mo  ...  2020-08-12   00:00:00\n",
              "2     USA  J78aPJ3VyNs  ...  2020-08-12   00:00:00\n",
              "3     USA  kXLn3HkpjaA  ...  2020-08-12   00:00:00\n",
              "4     USA  VIUo6yapDbc  ...  2020-08-12   00:00:00\n",
              "\n",
              "[5 rows x 18 columns]"
            ]
          },
          "metadata": {
            "tags": []
          },
          "execution_count": 16
        }
      ]
    },
    {
      "cell_type": "code",
      "metadata": {
        "id": "MnEMrGH3mS3y",
        "colab": {
          "base_uri": "https://localhost:8080/",
          "height": 479
        },
        "outputId": "1e6d6dbd-550c-452d-87b7-3ed194ce7ec4"
      },
      "source": [
        "#Drop publishedAt, channelId, Dates, Times and trending_date columns\n",
        "\n",
        "Data2 = df2.drop(columns =['publishedAt', 'trending_date', 'channelId'], axis = 1) \n",
        "Data2.head()"
      ],
      "execution_count": 17,
      "outputs": [
        {
          "output_type": "execute_result",
          "data": {
            "text/html": [
              "<div>\n",
              "<style scoped>\n",
              "    .dataframe tbody tr th:only-of-type {\n",
              "        vertical-align: middle;\n",
              "    }\n",
              "\n",
              "    .dataframe tbody tr th {\n",
              "        vertical-align: top;\n",
              "    }\n",
              "\n",
              "    .dataframe thead th {\n",
              "        text-align: right;\n",
              "    }\n",
              "</style>\n",
              "<table border=\"1\" class=\"dataframe\">\n",
              "  <thead>\n",
              "    <tr style=\"text-align: right;\">\n",
              "      <th></th>\n",
              "      <th>country</th>\n",
              "      <th>video_id</th>\n",
              "      <th>title</th>\n",
              "      <th>channelTitle</th>\n",
              "      <th>categoryId</th>\n",
              "      <th>tags</th>\n",
              "      <th>view_count</th>\n",
              "      <th>likes</th>\n",
              "      <th>dislikes</th>\n",
              "      <th>comment_count</th>\n",
              "      <th>description</th>\n",
              "      <th>publish_date</th>\n",
              "      <th>publish_time</th>\n",
              "      <th>trend_date</th>\n",
              "      <th>trend_time</th>\n",
              "    </tr>\n",
              "  </thead>\n",
              "  <tbody>\n",
              "    <tr>\n",
              "      <th>0</th>\n",
              "      <td>USA</td>\n",
              "      <td>3C66w5Z0ixs</td>\n",
              "      <td>I ASKED HER TO BE MY GIRLFRIEND...</td>\n",
              "      <td>Brawadis</td>\n",
              "      <td>22</td>\n",
              "      <td>brawadis|prank|basketball|skits|ghost|funny vi...</td>\n",
              "      <td>1514614</td>\n",
              "      <td>156908</td>\n",
              "      <td>5855</td>\n",
              "      <td>35313</td>\n",
              "      <td>SUBSCRIBE to BRAWADIS ▶ http://bit.ly/Subscrib...</td>\n",
              "      <td>2020-08-11</td>\n",
              "      <td>19:20:14</td>\n",
              "      <td>2020-08-12</td>\n",
              "      <td>00:00:00</td>\n",
              "    </tr>\n",
              "    <tr>\n",
              "      <th>1</th>\n",
              "      <td>USA</td>\n",
              "      <td>M9Pmf9AB4Mo</td>\n",
              "      <td>Apex Legends | Stories from the Outlands – “Th...</td>\n",
              "      <td>Apex Legends</td>\n",
              "      <td>20</td>\n",
              "      <td>Apex Legends|Apex Legends characters|new Apex ...</td>\n",
              "      <td>2381688</td>\n",
              "      <td>146739</td>\n",
              "      <td>2794</td>\n",
              "      <td>16549</td>\n",
              "      <td>While running her own modding shop, Ramya Pare...</td>\n",
              "      <td>2020-08-11</td>\n",
              "      <td>17:00:10</td>\n",
              "      <td>2020-08-12</td>\n",
              "      <td>00:00:00</td>\n",
              "    </tr>\n",
              "    <tr>\n",
              "      <th>2</th>\n",
              "      <td>USA</td>\n",
              "      <td>J78aPJ3VyNs</td>\n",
              "      <td>I left youtube for a month and THIS is what ha...</td>\n",
              "      <td>jacksepticeye</td>\n",
              "      <td>24</td>\n",
              "      <td>jacksepticeye|funny|funny meme|memes|jacksepti...</td>\n",
              "      <td>2038853</td>\n",
              "      <td>353787</td>\n",
              "      <td>2628</td>\n",
              "      <td>40221</td>\n",
              "      <td>I left youtube for a month and this is what ha...</td>\n",
              "      <td>2020-08-11</td>\n",
              "      <td>16:34:06</td>\n",
              "      <td>2020-08-12</td>\n",
              "      <td>00:00:00</td>\n",
              "    </tr>\n",
              "    <tr>\n",
              "      <th>3</th>\n",
              "      <td>USA</td>\n",
              "      <td>kXLn3HkpjaA</td>\n",
              "      <td>XXL 2020 Freshman Class Revealed - Official An...</td>\n",
              "      <td>XXL</td>\n",
              "      <td>10</td>\n",
              "      <td>xxl freshman|xxl freshmen|2020 xxl freshman|20...</td>\n",
              "      <td>496771</td>\n",
              "      <td>23251</td>\n",
              "      <td>1856</td>\n",
              "      <td>7647</td>\n",
              "      <td>Subscribe to XXL → http://bit.ly/subscribe-xxl...</td>\n",
              "      <td>2020-08-11</td>\n",
              "      <td>16:38:55</td>\n",
              "      <td>2020-08-12</td>\n",
              "      <td>00:00:00</td>\n",
              "    </tr>\n",
              "    <tr>\n",
              "      <th>4</th>\n",
              "      <td>USA</td>\n",
              "      <td>VIUo6yapDbc</td>\n",
              "      <td>Ultimate DIY Home Movie Theater for The LaBran...</td>\n",
              "      <td>Mr. Kate</td>\n",
              "      <td>26</td>\n",
              "      <td>The LaBrant Family|DIY|Interior Design|Makeove...</td>\n",
              "      <td>1123889</td>\n",
              "      <td>45802</td>\n",
              "      <td>964</td>\n",
              "      <td>2196</td>\n",
              "      <td>Transforming The LaBrant Family's empty white ...</td>\n",
              "      <td>2020-08-11</td>\n",
              "      <td>15:10:05</td>\n",
              "      <td>2020-08-12</td>\n",
              "      <td>00:00:00</td>\n",
              "    </tr>\n",
              "  </tbody>\n",
              "</table>\n",
              "</div>"
            ],
            "text/plain": [
              "  country     video_id  ...  trend_date trend_time\n",
              "0     USA  3C66w5Z0ixs  ...  2020-08-12   00:00:00\n",
              "1     USA  M9Pmf9AB4Mo  ...  2020-08-12   00:00:00\n",
              "2     USA  J78aPJ3VyNs  ...  2020-08-12   00:00:00\n",
              "3     USA  kXLn3HkpjaA  ...  2020-08-12   00:00:00\n",
              "4     USA  VIUo6yapDbc  ...  2020-08-12   00:00:00\n",
              "\n",
              "[5 rows x 15 columns]"
            ]
          },
          "metadata": {
            "tags": []
          },
          "execution_count": 17
        }
      ]
    },
    {
      "cell_type": "code",
      "metadata": {
        "id": "gKMovyNJmS3z",
        "colab": {
          "base_uri": "https://localhost:8080/",
          "height": 297
        },
        "outputId": "3973a133-c805-4d8a-c229-43a5672bf94e"
      },
      "source": [
        "#Description of the numerical columns\n",
        "\n",
        "pd.options.display.float_format = \"{:.2f}\".format #to chnage the format of the results to see the full value\n",
        "Data2.describe()"
      ],
      "execution_count": 18,
      "outputs": [
        {
          "output_type": "execute_result",
          "data": {
            "text/html": [
              "<div>\n",
              "<style scoped>\n",
              "    .dataframe tbody tr th:only-of-type {\n",
              "        vertical-align: middle;\n",
              "    }\n",
              "\n",
              "    .dataframe tbody tr th {\n",
              "        vertical-align: top;\n",
              "    }\n",
              "\n",
              "    .dataframe thead th {\n",
              "        text-align: right;\n",
              "    }\n",
              "</style>\n",
              "<table border=\"1\" class=\"dataframe\">\n",
              "  <thead>\n",
              "    <tr style=\"text-align: right;\">\n",
              "      <th></th>\n",
              "      <th>categoryId</th>\n",
              "      <th>view_count</th>\n",
              "      <th>likes</th>\n",
              "      <th>dislikes</th>\n",
              "      <th>comment_count</th>\n",
              "    </tr>\n",
              "  </thead>\n",
              "  <tbody>\n",
              "    <tr>\n",
              "      <th>count</th>\n",
              "      <td>122801.00</td>\n",
              "      <td>122801.00</td>\n",
              "      <td>122801.00</td>\n",
              "      <td>122801.00</td>\n",
              "      <td>122801.00</td>\n",
              "    </tr>\n",
              "    <tr>\n",
              "      <th>mean</th>\n",
              "      <td>19.06</td>\n",
              "      <td>2034125.81</td>\n",
              "      <td>130090.73</td>\n",
              "      <td>4549.07</td>\n",
              "      <td>15760.43</td>\n",
              "    </tr>\n",
              "    <tr>\n",
              "      <th>std</th>\n",
              "      <td>6.90</td>\n",
              "      <td>7480688.57</td>\n",
              "      <td>550037.99</td>\n",
              "      <td>104581.04</td>\n",
              "      <td>158064.94</td>\n",
              "    </tr>\n",
              "    <tr>\n",
              "      <th>min</th>\n",
              "      <td>1.00</td>\n",
              "      <td>0.00</td>\n",
              "      <td>0.00</td>\n",
              "      <td>0.00</td>\n",
              "      <td>0.00</td>\n",
              "    </tr>\n",
              "    <tr>\n",
              "      <th>25%</th>\n",
              "      <td>10.00</td>\n",
              "      <td>268865.00</td>\n",
              "      <td>8421.00</td>\n",
              "      <td>199.00</td>\n",
              "      <td>684.00</td>\n",
              "    </tr>\n",
              "    <tr>\n",
              "      <th>50%</th>\n",
              "      <td>22.00</td>\n",
              "      <td>620621.00</td>\n",
              "      <td>24980.00</td>\n",
              "      <td>551.00</td>\n",
              "      <td>1886.00</td>\n",
              "    </tr>\n",
              "    <tr>\n",
              "      <th>75%</th>\n",
              "      <td>24.00</td>\n",
              "      <td>1514923.00</td>\n",
              "      <td>80823.00</td>\n",
              "      <td>1771.00</td>\n",
              "      <td>5629.00</td>\n",
              "    </tr>\n",
              "    <tr>\n",
              "      <th>max</th>\n",
              "      <td>29.00</td>\n",
              "      <td>262319276.00</td>\n",
              "      <td>16254791.00</td>\n",
              "      <td>12341474.00</td>\n",
              "      <td>6303708.00</td>\n",
              "    </tr>\n",
              "  </tbody>\n",
              "</table>\n",
              "</div>"
            ],
            "text/plain": [
              "       categoryId   view_count       likes    dislikes  comment_count\n",
              "count   122801.00    122801.00   122801.00   122801.00      122801.00\n",
              "mean        19.06   2034125.81   130090.73     4549.07       15760.43\n",
              "std          6.90   7480688.57   550037.99   104581.04      158064.94\n",
              "min          1.00         0.00        0.00        0.00           0.00\n",
              "25%         10.00    268865.00     8421.00      199.00         684.00\n",
              "50%         22.00    620621.00    24980.00      551.00        1886.00\n",
              "75%         24.00   1514923.00    80823.00     1771.00        5629.00\n",
              "max         29.00 262319276.00 16254791.00 12341474.00     6303708.00"
            ]
          },
          "metadata": {
            "tags": []
          },
          "execution_count": 18
        }
      ]
    },
    {
      "cell_type": "code",
      "metadata": {
        "id": "Y7lkOg9HmS30",
        "colab": {
          "base_uri": "https://localhost:8080/",
          "height": 279
        },
        "outputId": "d8964ad9-84e4-4ffa-b193-6bb67c94ad4b"
      },
      "source": [
        "#Plot histogram to view distribution of the count of views\n",
        "\n",
        "plt.hist(Data2['view_count'], bins=30)\n",
        "plt.xlabel('Number of views')\n",
        "plt.ylabel('Number of videos')\n",
        "plt.show()"
      ],
      "execution_count": 19,
      "outputs": [
        {
          "output_type": "display_data",
          "data": {
            "image/png": "[encoded data removed]",
            "text/plain": [
              "<Figure size 432x288 with 1 Axes>"
            ]
          },
          "metadata": {
            "tags": [],
            "needs_background": "light"
          }
        }
      ]
    },
    {
      "cell_type": "code",
      "metadata": {
        "id": "iYYRDbTpmS31",
        "colab": {
          "base_uri": "https://localhost:8080/"
        },
        "outputId": "2e17eba5-ae0e-416f-dc21-7d98856fd50c"
      },
      "source": [
        "#Check the percentage of views with less than 2.5 million views\n",
        "\n",
        "Data2[Data2['view_count'] < 2500000]['view_count'].count() / Data2['view_count'].count() * 100"
      ],
      "execution_count": 20,
      "outputs": [
        {
          "output_type": "execute_result",
          "data": {
            "text/plain": [
              "84.80875562902582"
            ]
          },
          "metadata": {
            "tags": []
          },
          "execution_count": 20
        }
      ]
    },
    {
      "cell_type": "code",
      "metadata": {
        "id": "gVkj9E2WmS32",
        "colab": {
          "base_uri": "https://localhost:8080/",
          "height": 279
        },
        "outputId": "9a1be29d-b83b-4f82-dc46-571908f81587"
      },
      "source": [
        "#Plot histogram to view distribution of the number of likes\n",
        "\n",
        "plt.hist(Data2['likes'], bins=30)\n",
        "plt.xlabel('Number of likes')\n",
        "plt.ylabel('Number of videos')\n",
        "plt.show()"
      ],
      "execution_count": 21,
      "outputs": [
        {
          "output_type": "display_data",
          "data": {
            "image/png": "[encoded data removed]",
            "text/plain": [
              "<Figure size 432x288 with 1 Axes>"
            ]
          },
          "metadata": {
            "tags": [],
            "needs_background": "light"
          }
        }
      ]
    },
    {
      "cell_type": "code",
      "metadata": {
        "id": "Zn_8LlkSmS33",
        "colab": {
          "base_uri": "https://localhost:8080/"
        },
        "outputId": "4afa0693-e110-4093-c93a-78526897cf18"
      },
      "source": [
        "#Check the percentage of likes with less than 250000 views\n",
        "\n",
        "Data2[Data2['likes'] < 250000]['likes'].count() / Data2['likes'].count() * 100"
      ],
      "execution_count": 22,
      "outputs": [
        {
          "output_type": "execute_result",
          "data": {
            "text/plain": [
              "90.17516144005342"
            ]
          },
          "metadata": {
            "tags": []
          },
          "execution_count": 22
        }
      ]
    },
    {
      "cell_type": "code",
      "metadata": {
        "scrolled": false,
        "id": "v_yi9BVtmS33",
        "colab": {
          "base_uri": "https://localhost:8080/",
          "height": 279
        },
        "outputId": "dbadf812-bf87-4ffa-dcf9-081ab6510d86"
      },
      "source": [
        "#Plot histogram to view distribution of the number of comments\n",
        "\n",
        "plt.hist(Data2['comment_count'], bins=30)\n",
        "plt.xlabel('Number of comments')\n",
        "plt.ylabel('Number of videos')\n",
        "plt.show()"
      ],
      "execution_count": 23,
      "outputs": [
        {
          "output_type": "display_data",
          "data": {
            "image/png": "[encoded data removed]",
            "text/plain": [
              "<Figure size 432x288 with 1 Axes>"
            ]
          },
          "metadata": {
            "tags": [],
            "needs_background": "light"
          }
        }
      ]
    },
    {
      "cell_type": "code",
      "metadata": {
        "id": "KcocttHemS34",
        "colab": {
          "base_uri": "https://localhost:8080/"
        },
        "outputId": "1b685638-5b00-43c3-aae8-bfb10abddeda"
      },
      "source": [
        "#Check the percentage of likes with less than 125000 comments\n",
        "\n",
        "Data2[Data2['comment_count'] < 125000]['comment_count'].count() / Data2['comment_count'].count() * 100"
      ],
      "execution_count": 24,
      "outputs": [
        {
          "output_type": "execute_result",
          "data": {
            "text/plain": [
              "98.63274729033151"
            ]
          },
          "metadata": {
            "tags": []
          },
          "execution_count": 24
        }
      ]
    },
    {
      "cell_type": "code",
      "metadata": {
        "id": "LauVY1PAmS35",
        "colab": {
          "base_uri": "https://localhost:8080/",
          "height": 711
        },
        "outputId": "8a52c54a-6413-4d27-a025-57e09d22f31a"
      },
      "source": [
        "#compare the number of trending videos per country\n",
        "\n",
        "labels = Data2.groupby(['country']).count().index\n",
        "sizes = Data2.groupby(['country']).count()['title']\n",
        "explode = (0, 0, 0, 0.1, 0, 0)  \n",
        "\n",
        "fig, ax = plt.subplots(figsize=(10,10))\n",
        "ax.pie(sizes, labels=labels, autopct='%1.1f%%',\n",
        "        shadow=False, explode=explode, startangle=90)\n",
        "ax.axis('equal')  \n",
        "sizes"
      ],
      "execution_count": 25,
      "outputs": [
        {
          "output_type": "execute_result",
          "data": {
            "text/plain": [
              "country\n",
              "Brazil        21194\n",
              "India         20057\n",
              "Japan         21197\n",
              "Mexico        21000\n",
              "SouthKorea    18155\n",
              "USA           21198\n",
              "Name: title, dtype: int64"
            ]
          },
          "metadata": {
            "tags": []
          },
          "execution_count": 25
        },
        {
          "output_type": "display_data",
          "data": {
            "image/png": "[encoded data removed]",
            "text/plain": [
              "<Figure size 720x720 with 1 Axes>"
            ]
          },
          "metadata": {
            "tags": []
          }
        }
      ]
    },
    {
      "cell_type": "code",
      "metadata": {
        "id": "s0Dy7ehCmS36",
        "colab": {
          "base_uri": "https://localhost:8080/",
          "height": 359
        },
        "outputId": "3066683b-16bf-4dec-c288-21a2d9346360"
      },
      "source": [
        "#Get the number of views for each country\n",
        "\n",
        "views_per_country=Data2.groupby(by=['country'],as_index=False).view_count.sum()\n",
        "plt.figure()\n",
        "views_per_country.plot.bar('country', 'view_count')\n",
        "plt.title('Number of Views per country')\n",
        "plt.show()"
      ],
      "execution_count": 26,
      "outputs": [
        {
          "output_type": "display_data",
          "data": {
            "text/plain": [
              "<Figure size 432x288 with 0 Axes>"
            ]
          },
          "metadata": {
            "tags": []
          }
        },
        {
          "output_type": "display_data",
          "data": {
            "image/png": "[encoded data removed]",
            "text/plain": [
              "<Figure size 432x288 with 1 Axes>"
            ]
          },
          "metadata": {
            "tags": [],
            "needs_background": "light"
          }
        }
      ]
    },
    {
      "cell_type": "code",
      "metadata": {
        "id": "pVoW7O-nmS36",
        "colab": {
          "base_uri": "https://localhost:8080/",
          "height": 359
        },
        "outputId": "46b348d3-5173-4cbc-8f6e-a1493540386a"
      },
      "source": [
        "#Get the number of likes for each country\n",
        "\n",
        "likes_per_country=Data2.groupby(by=['country'],as_index=False).likes.sum()\n",
        "plt.figure()\n",
        "likes_per_country.plot.bar('country', 'likes')\n",
        "plt.title('Number of likes per country')\n",
        "plt.show()"
      ],
      "execution_count": 27,
      "outputs": [
        {
          "output_type": "display_data",
          "data": {
            "text/plain": [
              "<Figure size 432x288 with 0 Axes>"
            ]
          },
          "metadata": {
            "tags": []
          }
        },
        {
          "output_type": "display_data",
          "data": {
            "image/png": "[encoded data removed]",
            "text/plain": [
              "<Figure size 432x288 with 1 Axes>"
            ]
          },
          "metadata": {
            "tags": [],
            "needs_background": "light"
          }
        }
      ]
    },
    {
      "cell_type": "code",
      "metadata": {
        "id": "UW3bn3IFmS37",
        "colab": {
          "base_uri": "https://localhost:8080/",
          "height": 359
        },
        "outputId": "00b4cefd-c4b5-4289-b6f7-a9832d1e9487"
      },
      "source": [
        "#Get the number of comment count for each country\n",
        "\n",
        "commentcount_per_country=Data2.groupby(by=['country'],as_index=False).comment_count.sum()\n",
        "plt.figure()\n",
        "commentcount_per_country.plot.bar('country', 'comment_count')\n",
        "plt.title('Number of comments per country')\n",
        "plt.show()"
      ],
      "execution_count": 28,
      "outputs": [
        {
          "output_type": "display_data",
          "data": {
            "text/plain": [
              "<Figure size 432x288 with 0 Axes>"
            ]
          },
          "metadata": {
            "tags": []
          }
        },
        {
          "output_type": "display_data",
          "data": {
            "image/png": "[encoded data removed]",
            "text/plain": [
              "<Figure size 432x288 with 1 Axes>"
            ]
          },
          "metadata": {
            "tags": [],
            "needs_background": "light"
          }
        }
      ]
    },
    {
      "cell_type": "code",
      "metadata": {
        "scrolled": true,
        "id": "CbhJMsv4mS38",
        "colab": {
          "base_uri": "https://localhost:8080/",
          "height": 359
        },
        "outputId": "b18d858e-d668-46d2-f1f2-19a37fe511ec"
      },
      "source": [
        "#Get the number of dislikes for each country\n",
        "\n",
        "dislikes_per_country=Data2.groupby(by=['country'],as_index=False).dislikes.sum()\n",
        "plt.figure()\n",
        "dislikes_per_country.plot.bar('country', 'dislikes')\n",
        "plt.title('Number of dislikes per country')\n",
        "plt.show()"
      ],
      "execution_count": 29,
      "outputs": [
        {
          "output_type": "display_data",
          "data": {
            "text/plain": [
              "<Figure size 432x288 with 0 Axes>"
            ]
          },
          "metadata": {
            "tags": []
          }
        },
        {
          "output_type": "display_data",
          "data": {
            "image/png": "[encoded data removed]",
            "text/plain": [
              "<Figure size 432x288 with 1 Axes>"
            ]
          },
          "metadata": {
            "tags": [],
            "needs_background": "light"
          }
        }
      ]
    },
    {
      "cell_type": "code",
      "metadata": {
        "id": "IjQdVrnmmS39",
        "colab": {
          "base_uri": "https://localhost:8080/",
          "height": 479
        },
        "outputId": "b4cb2113-cac4-4b41-dc17-4c47ffd04080"
      },
      "source": [
        "#Count the tag words\n",
        "\n",
        "Data3 = Data2\n",
        "Data3['tag_count'] = df['tags'].str.len()\n",
        "Data3.head()"
      ],
      "execution_count": 30,
      "outputs": [
        {
          "output_type": "execute_result",
          "data": {
            "text/html": [
              "<div>\n",
              "<style scoped>\n",
              "    .dataframe tbody tr th:only-of-type {\n",
              "        vertical-align: middle;\n",
              "    }\n",
              "\n",
              "    .dataframe tbody tr th {\n",
              "        vertical-align: top;\n",
              "    }\n",
              "\n",
              "    .dataframe thead th {\n",
              "        text-align: right;\n",
              "    }\n",
              "</style>\n",
              "<table border=\"1\" class=\"dataframe\">\n",
              "  <thead>\n",
              "    <tr style=\"text-align: right;\">\n",
              "      <th></th>\n",
              "      <th>country</th>\n",
              "      <th>video_id</th>\n",
              "      <th>title</th>\n",
              "      <th>channelTitle</th>\n",
              "      <th>categoryId</th>\n",
              "      <th>tags</th>\n",
              "      <th>view_count</th>\n",
              "      <th>likes</th>\n",
              "      <th>dislikes</th>\n",
              "      <th>comment_count</th>\n",
              "      <th>description</th>\n",
              "      <th>publish_date</th>\n",
              "      <th>publish_time</th>\n",
              "      <th>trend_date</th>\n",
              "      <th>trend_time</th>\n",
              "      <th>tag_count</th>\n",
              "    </tr>\n",
              "  </thead>\n",
              "  <tbody>\n",
              "    <tr>\n",
              "      <th>0</th>\n",
              "      <td>USA</td>\n",
              "      <td>3C66w5Z0ixs</td>\n",
              "      <td>I ASKED HER TO BE MY GIRLFRIEND...</td>\n",
              "      <td>Brawadis</td>\n",
              "      <td>22</td>\n",
              "      <td>brawadis|prank|basketball|skits|ghost|funny vi...</td>\n",
              "      <td>1514614</td>\n",
              "      <td>156908</td>\n",
              "      <td>5855</td>\n",
              "      <td>35313</td>\n",
              "      <td>SUBSCRIBE to BRAWADIS ▶ http://bit.ly/Subscrib...</td>\n",
              "      <td>2020-08-11</td>\n",
              "      <td>19:20:14</td>\n",
              "      <td>2020-08-12</td>\n",
              "      <td>00:00:00</td>\n",
              "      <td>143</td>\n",
              "    </tr>\n",
              "    <tr>\n",
              "      <th>1</th>\n",
              "      <td>USA</td>\n",
              "      <td>M9Pmf9AB4Mo</td>\n",
              "      <td>Apex Legends | Stories from the Outlands – “Th...</td>\n",
              "      <td>Apex Legends</td>\n",
              "      <td>20</td>\n",
              "      <td>Apex Legends|Apex Legends characters|new Apex ...</td>\n",
              "      <td>2381688</td>\n",
              "      <td>146739</td>\n",
              "      <td>2794</td>\n",
              "      <td>16549</td>\n",
              "      <td>While running her own modding shop, Ramya Pare...</td>\n",
              "      <td>2020-08-11</td>\n",
              "      <td>17:00:10</td>\n",
              "      <td>2020-08-12</td>\n",
              "      <td>00:00:00</td>\n",
              "      <td>448</td>\n",
              "    </tr>\n",
              "    <tr>\n",
              "      <th>2</th>\n",
              "      <td>USA</td>\n",
              "      <td>J78aPJ3VyNs</td>\n",
              "      <td>I left youtube for a month and THIS is what ha...</td>\n",
              "      <td>jacksepticeye</td>\n",
              "      <td>24</td>\n",
              "      <td>jacksepticeye|funny|funny meme|memes|jacksepti...</td>\n",
              "      <td>2038853</td>\n",
              "      <td>353787</td>\n",
              "      <td>2628</td>\n",
              "      <td>40221</td>\n",
              "      <td>I left youtube for a month and this is what ha...</td>\n",
              "      <td>2020-08-11</td>\n",
              "      <td>16:34:06</td>\n",
              "      <td>2020-08-12</td>\n",
              "      <td>00:00:00</td>\n",
              "      <td>384</td>\n",
              "    </tr>\n",
              "    <tr>\n",
              "      <th>3</th>\n",
              "      <td>USA</td>\n",
              "      <td>kXLn3HkpjaA</td>\n",
              "      <td>XXL 2020 Freshman Class Revealed - Official An...</td>\n",
              "      <td>XXL</td>\n",
              "      <td>10</td>\n",
              "      <td>xxl freshman|xxl freshmen|2020 xxl freshman|20...</td>\n",
              "      <td>496771</td>\n",
              "      <td>23251</td>\n",
              "      <td>1856</td>\n",
              "      <td>7647</td>\n",
              "      <td>Subscribe to XXL → http://bit.ly/subscribe-xxl...</td>\n",
              "      <td>2020-08-11</td>\n",
              "      <td>16:38:55</td>\n",
              "      <td>2020-08-12</td>\n",
              "      <td>00:00:00</td>\n",
              "      <td>250</td>\n",
              "    </tr>\n",
              "    <tr>\n",
              "      <th>4</th>\n",
              "      <td>USA</td>\n",
              "      <td>VIUo6yapDbc</td>\n",
              "      <td>Ultimate DIY Home Movie Theater for The LaBran...</td>\n",
              "      <td>Mr. Kate</td>\n",
              "      <td>26</td>\n",
              "      <td>The LaBrant Family|DIY|Interior Design|Makeove...</td>\n",
              "      <td>1123889</td>\n",
              "      <td>45802</td>\n",
              "      <td>964</td>\n",
              "      <td>2196</td>\n",
              "      <td>Transforming The LaBrant Family's empty white ...</td>\n",
              "      <td>2020-08-11</td>\n",
              "      <td>15:10:05</td>\n",
              "      <td>2020-08-12</td>\n",
              "      <td>00:00:00</td>\n",
              "      <td>415</td>\n",
              "    </tr>\n",
              "  </tbody>\n",
              "</table>\n",
              "</div>"
            ],
            "text/plain": [
              "  country     video_id  ... trend_time tag_count\n",
              "0     USA  3C66w5Z0ixs  ...   00:00:00       143\n",
              "1     USA  M9Pmf9AB4Mo  ...   00:00:00       448\n",
              "2     USA  J78aPJ3VyNs  ...   00:00:00       384\n",
              "3     USA  kXLn3HkpjaA  ...   00:00:00       250\n",
              "4     USA  VIUo6yapDbc  ...   00:00:00       415\n",
              "\n",
              "[5 rows x 16 columns]"
            ]
          },
          "metadata": {
            "tags": []
          },
          "execution_count": 30
        }
      ]
    },
    {
      "cell_type": "code",
      "metadata": {
        "id": "97vDKTJlmS3-",
        "colab": {
          "base_uri": "https://localhost:8080/"
        },
        "outputId": "587889c5-f14e-480a-fbc6-f35d6ab0d3f7"
      },
      "source": [
        "corr = Data3.corr()\n",
        "print(corr)"
      ],
      "execution_count": 31,
      "outputs": [
        {
          "output_type": "stream",
          "text": [
            "               categoryId  view_count  ...  comment_count  tag_count\n",
            "categoryId           1.00       -0.12  ...          -0.08      -0.02\n",
            "view_count          -0.12        1.00  ...           0.83       0.04\n",
            "likes               -0.14        0.91  ...           0.85       0.00\n",
            "dislikes            -0.01        0.24  ...           0.22       0.02\n",
            "comment_count       -0.08        0.83  ...           1.00      -0.01\n",
            "tag_count           -0.02        0.04  ...          -0.01       1.00\n",
            "\n",
            "[6 rows x 6 columns]\n"
          ],
          "name": "stdout"
        }
      ]
    },
    {
      "cell_type": "code",
      "metadata": {
        "scrolled": true,
        "id": "TO6Tal08mS3_",
        "colab": {
          "base_uri": "https://localhost:8080/",
          "height": 340
        },
        "outputId": "5f7ef04f-0ac1-46c1-ac32-d9469886619c"
      },
      "source": [
        "#To help visualize the data\n",
        "#The lighter the colour the higher the correlation\n",
        "\n",
        "plt.figure()\n",
        "sns.heatmap(corr, annot=True);"
      ],
      "execution_count": 32,
      "outputs": [
        {
          "output_type": "display_data",
          "data": {
            "image/png": "[encoded data removed]",
            "text/plain": [
              "<Figure size 432x288 with 2 Axes>"
            ]
          },
          "metadata": {
            "tags": [],
            "needs_background": "light"
          }
        }
      ]
    },
    {
      "cell_type": "code",
      "metadata": {
        "id": "hoje0JucmS3_",
        "colab": {
          "base_uri": "https://localhost:8080/",
          "height": 479
        },
        "outputId": "800cb74c-737d-4803-9d03-1d21c00ebfa8"
      },
      "source": [
        "#Get the difference in trend date from publish date\n",
        "\n",
        "Data4 = Data3\n",
        "Data4['difference_in_date'] = abs(Data4['trend_date'] - Data4['publish_date']).dt.days\n",
        "Data4.head()"
      ],
      "execution_count": 33,
      "outputs": [
        {
          "output_type": "execute_result",
          "data": {
            "text/html": [
              "<div>\n",
              "<style scoped>\n",
              "    .dataframe tbody tr th:only-of-type {\n",
              "        vertical-align: middle;\n",
              "    }\n",
              "\n",
              "    .dataframe tbody tr th {\n",
              "        vertical-align: top;\n",
              "    }\n",
              "\n",
              "    .dataframe thead th {\n",
              "        text-align: right;\n",
              "    }\n",
              "</style>\n",
              "<table border=\"1\" class=\"dataframe\">\n",
              "  <thead>\n",
              "    <tr style=\"text-align: right;\">\n",
              "      <th></th>\n",
              "      <th>country</th>\n",
              "      <th>video_id</th>\n",
              "      <th>title</th>\n",
              "      <th>channelTitle</th>\n",
              "      <th>categoryId</th>\n",
              "      <th>tags</th>\n",
              "      <th>view_count</th>\n",
              "      <th>likes</th>\n",
              "      <th>dislikes</th>\n",
              "      <th>comment_count</th>\n",
              "      <th>description</th>\n",
              "      <th>publish_date</th>\n",
              "      <th>publish_time</th>\n",
              "      <th>trend_date</th>\n",
              "      <th>trend_time</th>\n",
              "      <th>tag_count</th>\n",
              "      <th>difference_in_date</th>\n",
              "    </tr>\n",
              "  </thead>\n",
              "  <tbody>\n",
              "    <tr>\n",
              "      <th>0</th>\n",
              "      <td>USA</td>\n",
              "      <td>3C66w5Z0ixs</td>\n",
              "      <td>I ASKED HER TO BE MY GIRLFRIEND...</td>\n",
              "      <td>Brawadis</td>\n",
              "      <td>22</td>\n",
              "      <td>brawadis|prank|basketball|skits|ghost|funny vi...</td>\n",
              "      <td>1514614</td>\n",
              "      <td>156908</td>\n",
              "      <td>5855</td>\n",
              "      <td>35313</td>\n",
              "      <td>SUBSCRIBE to BRAWADIS ▶ http://bit.ly/Subscrib...</td>\n",
              "      <td>2020-08-11</td>\n",
              "      <td>19:20:14</td>\n",
              "      <td>2020-08-12</td>\n",
              "      <td>00:00:00</td>\n",
              "      <td>143</td>\n",
              "      <td>1</td>\n",
              "    </tr>\n",
              "    <tr>\n",
              "      <th>1</th>\n",
              "      <td>USA</td>\n",
              "      <td>M9Pmf9AB4Mo</td>\n",
              "      <td>Apex Legends | Stories from the Outlands – “Th...</td>\n",
              "      <td>Apex Legends</td>\n",
              "      <td>20</td>\n",
              "      <td>Apex Legends|Apex Legends characters|new Apex ...</td>\n",
              "      <td>2381688</td>\n",
              "      <td>146739</td>\n",
              "      <td>2794</td>\n",
              "      <td>16549</td>\n",
              "      <td>While running her own modding shop, Ramya Pare...</td>\n",
              "      <td>2020-08-11</td>\n",
              "      <td>17:00:10</td>\n",
              "      <td>2020-08-12</td>\n",
              "      <td>00:00:00</td>\n",
              "      <td>448</td>\n",
              "      <td>1</td>\n",
              "    </tr>\n",
              "    <tr>\n",
              "      <th>2</th>\n",
              "      <td>USA</td>\n",
              "      <td>J78aPJ3VyNs</td>\n",
              "      <td>I left youtube for a month and THIS is what ha...</td>\n",
              "      <td>jacksepticeye</td>\n",
              "      <td>24</td>\n",
              "      <td>jacksepticeye|funny|funny meme|memes|jacksepti...</td>\n",
              "      <td>2038853</td>\n",
              "      <td>353787</td>\n",
              "      <td>2628</td>\n",
              "      <td>40221</td>\n",
              "      <td>I left youtube for a month and this is what ha...</td>\n",
              "      <td>2020-08-11</td>\n",
              "      <td>16:34:06</td>\n",
              "      <td>2020-08-12</td>\n",
              "      <td>00:00:00</td>\n",
              "      <td>384</td>\n",
              "      <td>1</td>\n",
              "    </tr>\n",
              "    <tr>\n",
              "      <th>3</th>\n",
              "      <td>USA</td>\n",
              "      <td>kXLn3HkpjaA</td>\n",
              "      <td>XXL 2020 Freshman Class Revealed - Official An...</td>\n",
              "      <td>XXL</td>\n",
              "      <td>10</td>\n",
              "      <td>xxl freshman|xxl freshmen|2020 xxl freshman|20...</td>\n",
              "      <td>496771</td>\n",
              "      <td>23251</td>\n",
              "      <td>1856</td>\n",
              "      <td>7647</td>\n",
              "      <td>Subscribe to XXL → http://bit.ly/subscribe-xxl...</td>\n",
              "      <td>2020-08-11</td>\n",
              "      <td>16:38:55</td>\n",
              "      <td>2020-08-12</td>\n",
              "      <td>00:00:00</td>\n",
              "      <td>250</td>\n",
              "      <td>1</td>\n",
              "    </tr>\n",
              "    <tr>\n",
              "      <th>4</th>\n",
              "      <td>USA</td>\n",
              "      <td>VIUo6yapDbc</td>\n",
              "      <td>Ultimate DIY Home Movie Theater for The LaBran...</td>\n",
              "      <td>Mr. Kate</td>\n",
              "      <td>26</td>\n",
              "      <td>The LaBrant Family|DIY|Interior Design|Makeove...</td>\n",
              "      <td>1123889</td>\n",
              "      <td>45802</td>\n",
              "      <td>964</td>\n",
              "      <td>2196</td>\n",
              "      <td>Transforming The LaBrant Family's empty white ...</td>\n",
              "      <td>2020-08-11</td>\n",
              "      <td>15:10:05</td>\n",
              "      <td>2020-08-12</td>\n",
              "      <td>00:00:00</td>\n",
              "      <td>415</td>\n",
              "      <td>1</td>\n",
              "    </tr>\n",
              "  </tbody>\n",
              "</table>\n",
              "</div>"
            ],
            "text/plain": [
              "  country     video_id  ... tag_count difference_in_date\n",
              "0     USA  3C66w5Z0ixs  ...       143                  1\n",
              "1     USA  M9Pmf9AB4Mo  ...       448                  1\n",
              "2     USA  J78aPJ3VyNs  ...       384                  1\n",
              "3     USA  kXLn3HkpjaA  ...       250                  1\n",
              "4     USA  VIUo6yapDbc  ...       415                  1\n",
              "\n",
              "[5 rows x 17 columns]"
            ]
          },
          "metadata": {
            "tags": []
          },
          "execution_count": 33
        }
      ]
    },
    {
      "cell_type": "code",
      "metadata": {
        "id": "cXifUyDjmS4A",
        "colab": {
          "base_uri": "https://localhost:8080/",
          "height": 359
        },
        "outputId": "6ee832aa-31a9-449b-e29c-2ec739e489ae"
      },
      "source": [
        "#Get the average number of days a youtube video trends for each country\n",
        "\n",
        "Average_Trending_Days=Data4.groupby(by=['country'],as_index=False).difference_in_date.mean()\n",
        "plt.figure()\n",
        "Average_Trending_Days.plot.bar('country', 'difference_in_date')\n",
        "plt.title('Average Trending Days Per Country')\n",
        "plt.show()"
      ],
      "execution_count": 34,
      "outputs": [
        {
          "output_type": "display_data",
          "data": {
            "text/plain": [
              "<Figure size 432x288 with 0 Axes>"
            ]
          },
          "metadata": {
            "tags": []
          }
        },
        {
          "output_type": "display_data",
          "data": {
            "image/png": "[encoded data removed]",
            "text/plain": [
              "<Figure size 432x288 with 1 Axes>"
            ]
          },
          "metadata": {
            "tags": [],
            "needs_background": "light"
          }
        }
      ]
    },
    {
      "cell_type": "code",
      "metadata": {
        "id": "Hom6NGlImS4B",
        "colab": {
          "base_uri": "https://localhost:8080/",
          "height": 479
        },
        "outputId": "a71eb381-1e50-4f29-ee13-37a00898eca7"
      },
      "source": [
        "#Replace the values of the categoryId with its corresponding name.\n",
        "\n",
        "Data5 = Data4.replace({'categoryId' :{2 : 'Autos & Vehicles' , 1 : 'Film & Animation', 10 : 'Music', 15 : 'Pets & Animals', 17 : 'Sports', 18 : 'Short Movies', 19 : 'Travel & Events', 20 : 'Gaming', 21 : 'Videoblogging', 22 : 'People & Blogs', 23 : 'Comedy', 24 : 'Entertainment', 25 : 'News & Politics', 26 : 'Howto & Style', 27 : 'Education', 28 : 'Science & Technology', 29 : 'Nonprofits & Activism', 30 : 'Movies', 31 : 'Anime/Animation', 32 : 'Action/Adventure', 33 : 'Classics', 34 : 'Comedy', 35 : 'Documentary', 36 : 'Drama', 37 : 'Family', 38 : 'Foreign', 39 : 'Horror', 40 : 'Sci-Fi/Fantasy', 41 : 'Thriller', 42 : 'Shorts', 43 : 'Shows', 44 : 'Trailers'}})\n",
        "Data5.head()\n",
        "\n"
      ],
      "execution_count": 35,
      "outputs": [
        {
          "output_type": "execute_result",
          "data": {
            "text/html": [
              "<div>\n",
              "<style scoped>\n",
              "    .dataframe tbody tr th:only-of-type {\n",
              "        vertical-align: middle;\n",
              "    }\n",
              "\n",
              "    .dataframe tbody tr th {\n",
              "        vertical-align: top;\n",
              "    }\n",
              "\n",
              "    .dataframe thead th {\n",
              "        text-align: right;\n",
              "    }\n",
              "</style>\n",
              "<table border=\"1\" class=\"dataframe\">\n",
              "  <thead>\n",
              "    <tr style=\"text-align: right;\">\n",
              "      <th></th>\n",
              "      <th>country</th>\n",
              "      <th>video_id</th>\n",
              "      <th>title</th>\n",
              "      <th>channelTitle</th>\n",
              "      <th>categoryId</th>\n",
              "      <th>tags</th>\n",
              "      <th>view_count</th>\n",
              "      <th>likes</th>\n",
              "      <th>dislikes</th>\n",
              "      <th>comment_count</th>\n",
              "      <th>description</th>\n",
              "      <th>publish_date</th>\n",
              "      <th>publish_time</th>\n",
              "      <th>trend_date</th>\n",
              "      <th>trend_time</th>\n",
              "      <th>tag_count</th>\n",
              "      <th>difference_in_date</th>\n",
              "    </tr>\n",
              "  </thead>\n",
              "  <tbody>\n",
              "    <tr>\n",
              "      <th>0</th>\n",
              "      <td>USA</td>\n",
              "      <td>3C66w5Z0ixs</td>\n",
              "      <td>I ASKED HER TO BE MY GIRLFRIEND...</td>\n",
              "      <td>Brawadis</td>\n",
              "      <td>People &amp; Blogs</td>\n",
              "      <td>brawadis|prank|basketball|skits|ghost|funny vi...</td>\n",
              "      <td>1514614</td>\n",
              "      <td>156908</td>\n",
              "      <td>5855</td>\n",
              "      <td>35313</td>\n",
              "      <td>SUBSCRIBE to BRAWADIS ▶ http://bit.ly/Subscrib...</td>\n",
              "      <td>2020-08-11</td>\n",
              "      <td>19:20:14</td>\n",
              "      <td>2020-08-12</td>\n",
              "      <td>00:00:00</td>\n",
              "      <td>143</td>\n",
              "      <td>1</td>\n",
              "    </tr>\n",
              "    <tr>\n",
              "      <th>1</th>\n",
              "      <td>USA</td>\n",
              "      <td>M9Pmf9AB4Mo</td>\n",
              "      <td>Apex Legends | Stories from the Outlands – “Th...</td>\n",
              "      <td>Apex Legends</td>\n",
              "      <td>Gaming</td>\n",
              "      <td>Apex Legends|Apex Legends characters|new Apex ...</td>\n",
              "      <td>2381688</td>\n",
              "      <td>146739</td>\n",
              "      <td>2794</td>\n",
              "      <td>16549</td>\n",
              "      <td>While running her own modding shop, Ramya Pare...</td>\n",
              "      <td>2020-08-11</td>\n",
              "      <td>17:00:10</td>\n",
              "      <td>2020-08-12</td>\n",
              "      <td>00:00:00</td>\n",
              "      <td>448</td>\n",
              "      <td>1</td>\n",
              "    </tr>\n",
              "    <tr>\n",
              "      <th>2</th>\n",
              "      <td>USA</td>\n",
              "      <td>J78aPJ3VyNs</td>\n",
              "      <td>I left youtube for a month and THIS is what ha...</td>\n",
              "      <td>jacksepticeye</td>\n",
              "      <td>Entertainment</td>\n",
              "      <td>jacksepticeye|funny|funny meme|memes|jacksepti...</td>\n",
              "      <td>2038853</td>\n",
              "      <td>353787</td>\n",
              "      <td>2628</td>\n",
              "      <td>40221</td>\n",
              "      <td>I left youtube for a month and this is what ha...</td>\n",
              "      <td>2020-08-11</td>\n",
              "      <td>16:34:06</td>\n",
              "      <td>2020-08-12</td>\n",
              "      <td>00:00:00</td>\n",
              "      <td>384</td>\n",
              "      <td>1</td>\n",
              "    </tr>\n",
              "    <tr>\n",
              "      <th>3</th>\n",
              "      <td>USA</td>\n",
              "      <td>kXLn3HkpjaA</td>\n",
              "      <td>XXL 2020 Freshman Class Revealed - Official An...</td>\n",
              "      <td>XXL</td>\n",
              "      <td>Music</td>\n",
              "      <td>xxl freshman|xxl freshmen|2020 xxl freshman|20...</td>\n",
              "      <td>496771</td>\n",
              "      <td>23251</td>\n",
              "      <td>1856</td>\n",
              "      <td>7647</td>\n",
              "      <td>Subscribe to XXL → http://bit.ly/subscribe-xxl...</td>\n",
              "      <td>2020-08-11</td>\n",
              "      <td>16:38:55</td>\n",
              "      <td>2020-08-12</td>\n",
              "      <td>00:00:00</td>\n",
              "      <td>250</td>\n",
              "      <td>1</td>\n",
              "    </tr>\n",
              "    <tr>\n",
              "      <th>4</th>\n",
              "      <td>USA</td>\n",
              "      <td>VIUo6yapDbc</td>\n",
              "      <td>Ultimate DIY Home Movie Theater for The LaBran...</td>\n",
              "      <td>Mr. Kate</td>\n",
              "      <td>Howto &amp; Style</td>\n",
              "      <td>The LaBrant Family|DIY|Interior Design|Makeove...</td>\n",
              "      <td>1123889</td>\n",
              "      <td>45802</td>\n",
              "      <td>964</td>\n",
              "      <td>2196</td>\n",
              "      <td>Transforming The LaBrant Family's empty white ...</td>\n",
              "      <td>2020-08-11</td>\n",
              "      <td>15:10:05</td>\n",
              "      <td>2020-08-12</td>\n",
              "      <td>00:00:00</td>\n",
              "      <td>415</td>\n",
              "      <td>1</td>\n",
              "    </tr>\n",
              "  </tbody>\n",
              "</table>\n",
              "</div>"
            ],
            "text/plain": [
              "  country     video_id  ... tag_count difference_in_date\n",
              "0     USA  3C66w5Z0ixs  ...       143                  1\n",
              "1     USA  M9Pmf9AB4Mo  ...       448                  1\n",
              "2     USA  J78aPJ3VyNs  ...       384                  1\n",
              "3     USA  kXLn3HkpjaA  ...       250                  1\n",
              "4     USA  VIUo6yapDbc  ...       415                  1\n",
              "\n",
              "[5 rows x 17 columns]"
            ]
          },
          "metadata": {
            "tags": []
          },
          "execution_count": 35
        }
      ]
    },
    {
      "cell_type": "code",
      "metadata": {
        "id": "dbgbuTAUmS4B",
        "colab": {
          "base_uri": "https://localhost:8080/",
          "height": 911
        },
        "outputId": "f6b5c5ed-4cae-4599-ef75-d4f304eb84f2"
      },
      "source": [
        "#Compare the trend duration as per the categoryId.\n",
        "\n",
        "category_trend_duration= Data5.groupby(['categoryId','difference_in_date']).count()['video_id'].unstack().clip(upper=300)\n",
        "plt.figure(figsize=(15,15))\n",
        "sns.heatmap(category_trend_duration, cmap='plasma_r')\n",
        "plt.title(\"Category v/s Trending Duration\")"
      ],
      "execution_count": 36,
      "outputs": [
        {
          "output_type": "execute_result",
          "data": {
            "text/plain": [
              "Text(0.5, 1.0, 'Category v/s Trending Duration')"
            ]
          },
          "metadata": {
            "tags": []
          },
          "execution_count": 36
        },
        {
          "output_type": "display_data",
          "data": {
            "image/png": "[encoded data removed]",
            "text/plain": [
              "<Figure size 1080x1080 with 2 Axes>"
            ]
          },
          "metadata": {
            "tags": [],
            "needs_background": "light"
          }
        }
      ]
    },
    {
      "cell_type": "code",
      "metadata": {
        "scrolled": true,
        "id": "Fw6WUw_jmS4C",
        "colab": {
          "base_uri": "https://localhost:8080/",
          "height": 894
        },
        "outputId": "911c4bc8-447a-4239-a016-31d8fbdf9642"
      },
      "source": [
        "#like-dislikes ratio in different categories\n",
        "\n",
        "like_dislike_ratio = Data5.groupby('categoryId')['likes'].agg('sum') / Data5.groupby('categoryId')['dislikes'].agg('sum')\n",
        "like_dislike_ratio = like_dislike_ratio.sort_values(ascending=False).reset_index()\n",
        "like_dislike_ratio.columns = ['category','ratio']\n",
        "plt.subplots(figsize=(10, 15))\n",
        "sns.barplot(x=\"ratio\", y=\"category\", data=like_dislike_ratio,\n",
        "            label=\"Likes-Dislikes Ratio\", color=\"b\")"
      ],
      "execution_count": 37,
      "outputs": [
        {
          "output_type": "execute_result",
          "data": {
            "text/plain": [
              "<matplotlib.axes._subplots.AxesSubplot at 0x7f4826246ed0>"
            ]
          },
          "metadata": {
            "tags": []
          },
          "execution_count": 37
        },
        {
          "output_type": "display_data",
          "data": {
            "image/png": "[encoded data removed]",
            "text/plain": [
              "<Figure size 720x1080 with 1 Axes>"
            ]
          },
          "metadata": {
            "tags": [],
            "needs_background": "light"
          }
        }
      ]
    },
    {
      "cell_type": "code",
      "metadata": {
        "id": "Fc-02iaxmS4D",
        "colab": {
          "base_uri": "https://localhost:8080/",
          "height": 894
        },
        "outputId": "d3d730ac-1b3e-477f-d428-6572a2506276"
      },
      "source": [
        "#view-comment ratio in different categories\n",
        "\n",
        "view_comment_ratio = Data5.groupby('categoryId')['view_count'].agg('sum') / Data5.groupby('categoryId')['comment_count'].agg('sum')\n",
        "view_comment_ratio = view_comment_ratio.sort_values(ascending=False).reset_index()\n",
        "view_comment_ratio.columns = ['category','ratio']\n",
        "plt.subplots(figsize=(10, 15))\n",
        "sns.barplot(x=\"ratio\", y=\"category\", data=view_comment_ratio,\n",
        "            label=\"View-Comment Ratio\", color=\"g\")"
      ],
      "execution_count": 38,
      "outputs": [
        {
          "output_type": "execute_result",
          "data": {
            "text/plain": [
              "<matplotlib.axes._subplots.AxesSubplot at 0x7f4826117950>"
            ]
          },
          "metadata": {
            "tags": []
          },
          "execution_count": 38
        },
        {
          "output_type": "display_data",
          "data": {
            "image/png": "[encoded data removed]",
            "text/plain": [
              "<Figure size 720x1080 with 1 Axes>"
            ]
          },
          "metadata": {
            "tags": [],
            "needs_background": "light"
          }
        }
      ]
    },
    {
      "cell_type": "code",
      "metadata": {
        "id": "pWIyUthcmS4D",
        "colab": {
          "base_uri": "https://localhost:8080/",
          "height": 894
        },
        "outputId": "ddaaf82b-c535-43f7-8363-1b6c5f5513ed"
      },
      "source": [
        "#Dislikes-View ratio in different categories\n",
        "\n",
        "dislikes_view_ratio = Data5.groupby('categoryId')['dislikes'].agg('sum') / Data5.groupby('categoryId')['view_count'].agg('sum')\n",
        "dislikes_view_ratio = dislikes_view_ratio.sort_values(ascending=False).reset_index()\n",
        "dislikes_view_ratio.columns = ['category','ratio']\n",
        "plt.subplots(figsize=(10, 15))\n",
        "sns.barplot(x=\"ratio\", y=\"category\", data=dislikes_view_ratio,\n",
        "            label=\"View-Comment Ratio\", color=\"r\")"
      ],
      "execution_count": 39,
      "outputs": [
        {
          "output_type": "execute_result",
          "data": {
            "text/plain": [
              "<matplotlib.axes._subplots.AxesSubplot at 0x7f4826062e50>"
            ]
          },
          "metadata": {
            "tags": []
          },
          "execution_count": 39
        },
        {
          "output_type": "display_data",
          "data": {
            "image/png": "[encoded data removed]",
            "text/plain": [
              "<Figure size 720x1080 with 1 Axes>"
            ]
          },
          "metadata": {
            "tags": [],
            "needs_background": "light"
          }
        }
      ]
    },
    {
      "cell_type": "code",
      "metadata": {
        "id": "W9p2suhEmS4E",
        "colab": {
          "base_uri": "https://localhost:8080/",
          "height": 894
        },
        "outputId": "c37cbc67-af66-4d38-b6ed-5a67dad01c8e"
      },
      "source": [
        "#Dislikes-Comment ratio in different categories\n",
        "\n",
        "dislikes_comment_ratio = Data5.groupby('categoryId')['dislikes'].agg('sum') / Data5.groupby('categoryId')['comment_count'].agg('sum')\n",
        "dislikes_comment_ratio = dislikes_comment_ratio.sort_values(ascending=False).reset_index()\n",
        "dislikes_comment_ratio.columns = ['category','ratio']\n",
        "plt.subplots(figsize=(10, 15))\n",
        "sns.barplot(x=\"ratio\", y=\"category\", data=dislikes_comment_ratio,\n",
        "            label=\"Dislikes-Comment Ratio\", color=\"y\")"
      ],
      "execution_count": 40,
      "outputs": [
        {
          "output_type": "execute_result",
          "data": {
            "text/plain": [
              "<matplotlib.axes._subplots.AxesSubplot at 0x7f4826426290>"
            ]
          },
          "metadata": {
            "tags": []
          },
          "execution_count": 40
        },
        {
          "output_type": "display_data",
          "data": {
            "image/png": "[encoded data removed]",
            "text/plain": [
              "<Figure size 720x1080 with 1 Axes>"
            ]
          },
          "metadata": {
            "tags": [],
            "needs_background": "light"
          }
        }
      ]
    },
    {
      "cell_type": "code",
      "metadata": {
        "id": "s-PzULYqmS4E",
        "colab": {
          "base_uri": "https://localhost:8080/",
          "height": 894
        },
        "outputId": "cd995406-c6ce-4d09-ad16-5522c6b2e0d6"
      },
      "source": [
        "#Likes-Views Ratio in different categories\n",
        "\n",
        "likes_views_ratio = Data5.groupby('categoryId')['likes'].agg('sum') / Data5.groupby('categoryId')['view_count'].agg('sum')\n",
        "likes_views_ratio = likes_views_ratio.sort_values(ascending=False).reset_index()\n",
        "likes_views_ratio.columns = ['category','ratio']\n",
        "plt.subplots(figsize=(10, 15))\n",
        "sns.barplot(x=\"ratio\", y=\"category\", data=likes_views_ratio,\n",
        "            label=\"Likes-View Ratio\", color=\"m\")\n"
      ],
      "execution_count": 41,
      "outputs": [
        {
          "output_type": "execute_result",
          "data": {
            "text/plain": [
              "<matplotlib.axes._subplots.AxesSubplot at 0x7f482fe3a450>"
            ]
          },
          "metadata": {
            "tags": []
          },
          "execution_count": 41
        },
        {
          "output_type": "display_data",
          "data": {
            "image/png": "[encoded data removed]",
            "text/plain": [
              "<Figure size 720x1080 with 1 Axes>"
            ]
          },
          "metadata": {
            "tags": [],
            "needs_background": "light"
          }
        }
      ]
    },
    {
      "cell_type": "code",
      "metadata": {
        "id": "jxC3fUkOmS4F",
        "colab": {
          "base_uri": "https://localhost:8080/",
          "height": 894
        },
        "outputId": "124678f0-9250-43c6-aba0-5c431b8f2574"
      },
      "source": [
        "#like-tagcount ratio in different categories\n",
        "\n",
        "like_tagcount_ratio = Data5.groupby('categoryId')['likes'].agg('sum') / Data5.groupby('categoryId')['tag_count'].agg('sum')\n",
        "like_tagcount_ratio = like_tagcount_ratio.sort_values(ascending=False).reset_index()\n",
        "like_tagcount_ratio.columns = ['category','ratio']\n",
        "plt.subplots(figsize=(10, 15))\n",
        "sns.barplot(x=\"ratio\", y=\"category\", data=like_tagcount_ratio,\n",
        "            label=\"Likes-Tagcount Ratio\", color=\"c\")"
      ],
      "execution_count": 42,
      "outputs": [
        {
          "output_type": "execute_result",
          "data": {
            "text/plain": [
              "<matplotlib.axes._subplots.AxesSubplot at 0x7f482eeb3b90>"
            ]
          },
          "metadata": {
            "tags": []
          },
          "execution_count": 42
        },
        {
          "output_type": "display_data",
          "data": {
            "image/png": "[encoded data removed]",
            "text/plain": [
              "<Figure size 720x1080 with 1 Axes>"
            ]
          },
          "metadata": {
            "tags": [],
            "needs_background": "light"
          }
        }
      ]
    },
    {
      "cell_type": "code",
      "metadata": {
        "scrolled": false,
        "id": "byV1WA0wmS4F",
        "colab": {
          "base_uri": "https://localhost:8080/",
          "height": 894
        },
        "outputId": "de8d17c0-8721-4b1f-e055-b85a3f677638"
      },
      "source": [
        "#dislike-tagcount ratio in different categories\n",
        "\n",
        "dislike_tagcount_ratio = Data5.groupby('categoryId')['dislikes'].agg('sum') / Data5.groupby('categoryId')['tag_count'].agg('sum')\n",
        "dislike_tagcount_ratio = dislike_tagcount_ratio.sort_values(ascending=False).reset_index()\n",
        "dislike_tagcount_ratio.columns = ['category','ratio']\n",
        "plt.subplots(figsize=(10, 15))\n",
        "sns.barplot(x=\"ratio\", y=\"category\", data=dislike_tagcount_ratio,\n",
        "            label=\"Dislikes-Tagcount Ratio\", color=\"k\")"
      ],
      "execution_count": 43,
      "outputs": [
        {
          "output_type": "execute_result",
          "data": {
            "text/plain": [
              "<matplotlib.axes._subplots.AxesSubplot at 0x7f482ec93b90>"
            ]
          },
          "metadata": {
            "tags": []
          },
          "execution_count": 43
        },
        {
          "output_type": "display_data",
          "data": {
            "image/png": "[encoded data removed]",
            "text/plain": [
              "<Figure size 720x1080 with 1 Axes>"
            ]
          },
          "metadata": {
            "tags": [],
            "needs_background": "light"
          }
        }
      ]
    }
  ]
}